{
 "cells": [
  {
   "cell_type": "markdown",
   "id": "4c36296d-f55f-44ae-846d-3b4d543537e6",
   "metadata": {},
   "source": [
    "# Data Science Tools and Ecosystem\n"
   ]
  },
  {
   "cell_type": "markdown",
   "id": "75a184cd-3c90-435c-b9de-bec725d2c9c6",
   "metadata": {},
   "source": [
    "In this notebook, Data Science Tools and Ecosystem are summarized."
   ]
  },
  {
   "cell_type": "markdown",
   "id": "fe47e318-16ce-4790-91e4-1d61edffc883",
   "metadata": {},
   "source": [
    "#### Objectives:\n",
    "* popular languages that data scientists use\n",
    "* commonly used libraries for data science\n",
    "* data science tools\n",
    "* arithmetic expression in python"
   ]
  },
  {
   "cell_type": "markdown",
   "id": "4eee734e-3942-4a59-b7a8-fe039030f670",
   "metadata": {},
   "source": [
    "Some of the popular languages that Data Scientists use are:\n",
    "1. R\n",
    "2. Python\n",
    "3. Julia"
   ]
  },
  {
   "cell_type": "markdown",
   "id": "9dbbea11-0315-4c4d-9b4c-97a5a27d2f99",
   "metadata": {},
   "source": [
    "Some of the commonly used libraries used by Data Scientists include:\n",
    "1. numpy\n",
    "2. matplotlib\n",
    "3. pandas"
   ]
  },
  {
   "cell_type": "markdown",
   "id": "ff37d745-a7c1-41ab-9db8-3b37883287d9",
   "metadata": {},
   "source": [
    " | Data Science Tools| \n",
    " |---------|\n",
    " | VS Code Studio| \n",
    " |Jupyter lab/notebook|\n",
    "|R studio|\n",
    "\n",
    " \n"
   ]
  },
  {
   "cell_type": "markdown",
   "id": "738c4a1c-4bdf-4791-ba6b-f90c07620cb8",
   "metadata": {},
   "source": [
    "### Below are a few examples of evaluating arithmetic expressions in Python.\n",
    "\n"
   ]
  },
  {
   "cell_type": "code",
   "execution_count": 4,
   "id": "b1f40c2b-8c14-4ceb-a0c3-cb899dfa4e6e",
   "metadata": {},
   "outputs": [
    {
     "data": {
      "text/plain": [
       "17"
      ]
     },
     "execution_count": 4,
     "metadata": {},
     "output_type": "execute_result"
    }
   ],
   "source": [
    "# This a simple arithmetic expression to mutiply then add integers\n",
    "(3*4)+5"
   ]
  },
  {
   "cell_type": "code",
   "execution_count": 8,
   "id": "17be337b-be84-418c-be32-fe4d5a63d958",
   "metadata": {},
   "outputs": [
    {
     "name": "stdout",
     "output_type": "stream",
     "text": [
      "200 minutes converted to hours:  3.3333333333333335 hours\n"
     ]
    }
   ],
   "source": [
    "# This will convert 200 minutes to hours by diving by 60\n",
    "minutestohour = 200/60\n",
    "print(\"200 minutes converted to hours: \",minutestohour,\"hours\")"
   ]
  },
  {
   "cell_type": "markdown",
   "id": "4eb64b4c-aad9-4a30-a536-3fdc7f0dbdf7",
   "metadata": {},
   "source": [
    "## Author \n",
    "Ali.M.Yazdani"
   ]
  },
  {
   "cell_type": "code",
   "execution_count": null,
   "id": "ab154a2f-4d18-4add-ba0d-a196852a2496",
   "metadata": {},
   "outputs": [],
   "source": []
  }
 ],
 "metadata": {
  "kernelspec": {
   "display_name": "Python [conda env:base] *",
   "language": "python",
   "name": "conda-base-py"
  },
  "language_info": {
   "codemirror_mode": {
    "name": "ipython",
    "version": 3
   },
   "file_extension": ".py",
   "mimetype": "text/x-python",
   "name": "python",
   "nbconvert_exporter": "python",
   "pygments_lexer": "ipython3",
   "version": "3.12.2"
  }
 },
 "nbformat": 4,
 "nbformat_minor": 5
}
